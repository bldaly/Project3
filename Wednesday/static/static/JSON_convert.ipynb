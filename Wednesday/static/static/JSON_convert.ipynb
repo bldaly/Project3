{
 "cells": [
  {
   "cell_type": "code",
   "execution_count": 9,
   "metadata": {},
   "outputs": [],
   "source": [
    "import pandas as pd\n",
    "from sqlalchemy import create_engine\n",
    "import os\n",
    "from itertools import groupby \n",
    "from collections import OrderedDict\n",
    "import json "
   ]
  },
  {
   "cell_type": "code",
   "execution_count": 10,
   "metadata": {},
   "outputs": [],
   "source": [
    "Data = pd.read_csv('data.csv', dtype={\n",
    "            \"categories\" : str,\n",
    "            \"city\" : str,\n",
    "            \"latitude\" : float,\n",
    "            \"longitude\" : float,\n",
    "        })\n",
    "\n",
    "results = []\n",
    "\n",
    "for (categories, city), bag in Data.groupby([\"categories\", \"city\"]):\n",
    "    contents_df = bag.drop([\"categories\", \"city\"], axis=1)\n",
    "    subset = [OrderedDict(row) for i,row in contents_df.iterrows()]\n",
    "    results.append(OrderedDict([(\"city\", city),\n",
    "                                (\"categories\", categories),\n",
    "                                (\"location\", subset)]))\n",
    "                                \n",
    "with open('data.js', 'w') as outfile:\n",
    "    outfile.write(json.dumps(results, indent=4))"
   ]
  }
 ],
 "metadata": {
  "kernelspec": {
   "display_name": "Python 3",
   "language": "python",
   "name": "python3"
  },
  "language_info": {
   "codemirror_mode": {
    "name": "ipython",
    "version": 3
   },
   "file_extension": ".py",
   "mimetype": "text/x-python",
   "name": "python",
   "nbconvert_exporter": "python",
   "pygments_lexer": "ipython3",
   "version": "3.7.0"
  }
 },
 "nbformat": 4,
 "nbformat_minor": 2
}
