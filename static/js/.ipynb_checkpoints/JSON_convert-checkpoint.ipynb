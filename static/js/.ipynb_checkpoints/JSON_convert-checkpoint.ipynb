{
 "cells": [
  {
   "cell_type": "code",
   "execution_count": 11,
   "metadata": {},
   "outputs": [],
   "source": [
    "import pandas as pd\n",
    "from sqlalchemy import create_engine\n",
    "import os\n",
    "from itertools import groupby \n",
    "from collections import OrderedDict\n",
    "import json "
   ]
  },
  {
   "cell_type": "code",
   "execution_count": 14,
   "metadata": {},
   "outputs": [],
   "source": [
    "Data = pd.read_csv('data.csv', dtype={\n",
    "            \"city\" : str,\n",
    "            \"province\" : str,\n",
    "            \"postalCode\" : str,\n",
    "            \"name\" : str,\n",
    "            \"twitter\" : str,\n",
    "            \"websites\" : str,\n",
    "        })\n",
    "\n",
    "results = []\n",
    "\n",
    "for (city, province, postalCode, name, twitter, websites), bag in Data.groupby([\"city\", \"province\", \n",
    "                                                                                   \"postalCode\",\"name\", \"twitter\", \"websites\"]):\n",
    "    contents_df = bag.drop([\"city\", \"province\", \"postalCode\", \"twitter\", \"websites\"], axis=1)\n",
    "    subset = [OrderedDict(row) for i,row in contents_df.iterrows()]\n",
    "    results.append(OrderedDict([(\"city\", city), \n",
    "                                (\"province\", province),\n",
    "                                (\"postalCode\", postalCode),\n",
    "                                (\"name\", name),\n",
    "                                (\"twitter\", twitter),\n",
    "                               (\"websites\", websites)]))\n",
    "                                \n",
    "with open('data.js', 'w') as outfile:\n",
    "    outfile.write(json.dumps(results, indent=4))"
   ]
  }
 ],
 "metadata": {
  "kernelspec": {
   "display_name": "Python 3",
   "language": "python",
   "name": "python3"
  },
  "language_info": {
   "codemirror_mode": {
    "name": "ipython",
    "version": 3
   },
   "file_extension": ".py",
   "mimetype": "text/x-python",
   "name": "python",
   "nbconvert_exporter": "python",
   "pygments_lexer": "ipython3",
   "version": "3.7.0"
  }
 },
 "nbformat": 4,
 "nbformat_minor": 2
}
