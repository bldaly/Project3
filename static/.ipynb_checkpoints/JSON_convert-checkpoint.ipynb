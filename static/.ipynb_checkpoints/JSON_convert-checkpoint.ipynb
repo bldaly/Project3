{
 "cells": [
  {
   "cell_type": "code",
   "execution_count": 8,
   "metadata": {},
   "outputs": [],
   "source": [
    "import pandas as pd\n",
    "from sqlalchemy import create_engine\n",
    "import os\n",
    "from itertools import groupby \n",
    "from collections import OrderedDict\n",
    "import json "
   ]
  },
  {
   "cell_type": "code",
   "execution_count": 12,
   "metadata": {},
   "outputs": [],
   "source": [
    "Locations = pd.read_csv('locations.csv', dtype={\n",
    "            \"name\" : str,\n",
    "            \"city\" : str,\n",
    "            \"province\" : str,\n",
    "            \"location\" : str,\n",
    "        })\n",
    "\n",
    "results = []\n",
    "\n",
    "for (name, city, province, location), bag in Locations.groupby([\"name\", \"city\", \"province\", \"location\"]):\n",
    "    contents_df = bag.drop(['name', 'city', 'province', 'location'], axis=1)\n",
    "    subset = [OrderedDict(row) for i,row in contents_df.iterrows()]\n",
    "    results.append(OrderedDict([(\"name\", name),\n",
    "                                (\"city\", city),\n",
    "                                (\"province\", province),\n",
    "                                (\"location\", location)\n",
    "                            ]))\n",
    "                                \n",
    "with open('locations.js', 'w') as outfile:\n",
    "    outfile.write(json.dumps(results, indent=2))"
   ]
  }
 ],
 "metadata": {
  "kernelspec": {
   "display_name": "Python 3",
   "language": "python",
   "name": "python3"
  },
  "language_info": {
   "codemirror_mode": {
    "name": "ipython",
    "version": 3
   },
   "file_extension": ".py",
   "mimetype": "text/x-python",
   "name": "python",
   "nbconvert_exporter": "python",
   "pygments_lexer": "ipython3",
   "version": "3.7.0"
  }
 },
 "nbformat": 4,
 "nbformat_minor": 2
}
